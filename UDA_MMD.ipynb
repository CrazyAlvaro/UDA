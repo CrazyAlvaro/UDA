{
  "cells": [
    {
      "cell_type": "markdown",
      "id": "UOmUNvGYgPRN",
      "metadata": {
        "id": "UOmUNvGYgPRN"
      },
      "source": [
        "# Unsupervised Domain Adaptation Project\n"
      ]
    },
    {
      "cell_type": "markdown",
      "id": "ExU_wmMAgVsR",
      "metadata": {
        "id": "ExU_wmMAgVsR"
      },
      "source": [
        "## Part-1: Data download\n",
        "Load data to project from Google Drive. Copy a subset of classes of images to the path:\n",
        "- `adaptiope_small/product_images`\n",
        "- `adaptiope_small/real_life` \n",
        "\n",
        "two directories. They represent images from two different domain **product** and **real_life**"
      ]
    },
    {
      "cell_type": "code",
      "execution_count": null,
      "id": "4134f6cf",
      "metadata": {
        "colab": {
          "base_uri": "https://localhost:8080/"
        },
        "id": "4134f6cf",
        "outputId": "ece23d55-a71f-4c37-c413-b313178c76eb"
      },
      "outputs": [
        {
          "output_type": "stream",
          "name": "stdout",
          "text": [
            "Mounted at /content/gdrive\n"
          ]
        }
      ],
      "source": [
        "from os import makedirs, listdir\n",
        "from tqdm import tqdm\n",
        "from google.colab import drive\n",
        "from os.path import join\n",
        "from shutil import copytree\n",
        "\n",
        "drive.mount('/content/gdrive')\n",
        "\n",
        "!mkdir dataset\n",
        "!cp \"gdrive/My Drive/Colab Notebooks/data/Adaptiope.zip\" dataset/\n",
        "# !ls dataset\n",
        "\n",
        "!unzip -qq dataset/Adaptiope.zip   # unzip file\n",
        "\n",
        "!rm -rf dataset/Adaptiope.zip \n",
        "!rm -rf adaptiope_small"
      ]
    },
    {
      "cell_type": "code",
      "execution_count": null,
      "id": "0a6cac67",
      "metadata": {
        "colab": {
          "base_uri": "https://localhost:8080/"
        },
        "id": "0a6cac67",
        "outputId": "9e07abd7-aff7-4cd6-fe5c-f99b40929e8e"
      },
      "outputs": [
        {
          "output_type": "stream",
          "name": "stdout",
          "text": [
            "['bottle', 'file cabinet', 'brachiosaurus', 'binoculars', 'stethoscope', 'smartphone', 'mixing console', 'axe', 'purse', 'hard-wired fixed phone', 'golf club', 'pipe wrench', 'puncher', 'computer mouse', 'speakers', 'fighter jet', 'diving fins', 'knife', 'ladder', 'projector', 'glasses', 'laptop', 'tape dispenser', 'spatula', 'game controller', 'electric shaver', 'tank', 'ring binder', 'trash can', 'crown', 'magic lamp', 'printer', 'shower head', 'toothbrush', 'hair dryer', 'stapler', 'chainsaw', 'sleeping bag', 'motorbike helmet', 'wristwatch', 'vr goggles', 'phonograph', 'drum set', 'wheelchair', 'sword', 'bicycle', 'letter tray', 'network switch', 'ice cube tray', 'nail clipper', 'handcuffs', 'umbrella', 'coat hanger', 'hoverboard', 'tent', 'computer', 'flat iron', 'rubber boat', 'snow shovel', 'rifle', 'telescope', 'dart', 'acoustic guitar', 'corkscrew', 'ruler', 'scissors', 'watering can', 'scooter', 'fan', 'hot glue gun', 'hourglass', 'razor', 'calculator', 'wallet', 'cordless fixed phone', 'webcam', 'monitor', 'car jack', 'cellphone', 'syringe', 'usb stick', 'vacuum cleaner', 'power drill', 'sewing machine', 'mug', 'ice skates', 'hand mixer', 'lawn mower', 'over-ear headphones', 'office chair', 'pikachu', 'grill', 'stroller', 'tyrannosaurus', 'microwave', 'skeleton', 'hat', 'keyboard', 'baseball bat', 'helicopter', 'toilet brush', 'bookcase', 'screwdriver', 'quadcopter', 'skateboard', 'comb', 'notepad', 'pogo stick', 'rc car', 'roller skates', 'in-ear headphones', 'stand mixer', 'desk lamp', 'pen', 'handgun', 'smoking pipe', 'backpack', 'compass', 'electric guitar', 'fire extinguisher', 'boxing gloves', 'power strip', 'bicycle helmet']\n"
          ]
        },
        {
          "output_type": "stream",
          "name": "stderr",
          "text": [
            "100%|██████████| 20/20 [00:02<00:00,  6.82it/s]\n",
            "100%|██████████| 20/20 [00:04<00:00,  4.57it/s]\n"
          ]
        }
      ],
      "source": [
        "!mkdir adaptiope_small\n",
        "classes = listdir(\"Adaptiope/product_images\")\n",
        "print(classes)\n",
        "classes = [\"backpack\", \"bookcase\", \"car jack\", \"comb\", \"crown\", \"file cabinet\", \"flat iron\", \"game controller\", \"glasses\",\n",
        "           \"helicopter\", \"ice skates\", \"letter tray\", \"monitor\", \"mug\", \"network switch\", \"over-ear headphones\", \"pen\",\n",
        "           \"purse\", \"stand mixer\", \"stroller\"]\n",
        "domain_classes = [\"product_images\", \"real_life\"]\n",
        "for d, td in zip([\"Adaptiope/product_images\", \"Adaptiope/real_life\"], [\"adaptiope_small/product_images\", \"adaptiope_small/real_life\"]):\n",
        "  makedirs(td)\n",
        "  for c in tqdm(classes):\n",
        "    c_path = join(d, c)\n",
        "    c_target = join(td, c)\n",
        "    copytree(c_path, c_target)"
      ]
    },
    {
      "cell_type": "markdown",
      "id": "uUHNozN6ggRr",
      "metadata": {
        "id": "uUHNozN6ggRr"
      },
      "source": [
        "## Part-2: Image Classification Neural Network\n",
        "\n",
        " "
      ]
    },
    {
      "cell_type": "markdown",
      "id": "fwiJOBXWpeS0",
      "metadata": {
        "id": "fwiJOBXWpeS0"
      },
      "source": [
        "### Part-2.0: Data Loading\n",
        "\n",
        "First we load the data and preprocessing them"
      ]
    },
    {
      "cell_type": "code",
      "execution_count": null,
      "id": "hmth8mlu1oov",
      "metadata": {
        "id": "hmth8mlu1oov"
      },
      "outputs": [],
      "source": [
        "product_path = 'adaptiope_small/product_images'\n",
        "real_life_path = 'adaptiope_small/real_life'"
      ]
    },
    {
      "cell_type": "code",
      "execution_count": null,
      "id": "ht9bXOHU6zTQ",
      "metadata": {
        "colab": {
          "base_uri": "https://localhost:8080/"
        },
        "id": "ht9bXOHU6zTQ",
        "outputId": "c3699783-3d0c-49e8-b6cd-bae47e6513e6"
      },
      "outputs": [
        {
          "output_type": "stream",
          "name": "stdout",
          "text": [
            "/content\n",
            "Adaptiope  adaptiope_small  dataset  gdrive  sample_data\n"
          ]
        }
      ],
      "source": [
        "!pwd\n",
        "!ls"
      ]
    },
    {
      "cell_type": "code",
      "execution_count": null,
      "id": "_GZxbLlT6O8m",
      "metadata": {
        "colab": {
          "base_uri": "https://localhost:8080/"
        },
        "id": "_GZxbLlT6O8m",
        "outputId": "76d26bc6-b6ee-489d-8cb3-2250da14678e"
      },
      "outputs": [
        {
          "output_type": "stream",
          "name": "stdout",
          "text": [
            "Image size:  (679, 679)\n"
          ]
        }
      ],
      "source": [
        "from PIL import Image\n",
        "from os.path import join\n",
        "\n",
        "img = Image.open(join(product_path, 'backpack', 'backpack_003.jpg'))\n",
        "print('Image size: ', img.size)\n",
        "#img"
      ]
    },
    {
      "cell_type": "markdown",
      "id": "RE2WUwy9BORV",
      "metadata": {
        "id": "RE2WUwy9BORV"
      },
      "source": [
        "import libraries"
      ]
    },
    {
      "cell_type": "code",
      "execution_count": null,
      "id": "Vei6SzEeggzU",
      "metadata": {
        "id": "Vei6SzEeggzU"
      },
      "outputs": [],
      "source": [
        "import torch\n",
        "import torch.nn.functional as F\n",
        "from torchvision import transforms\n",
        "from torchvision.datasets import ImageFolder\n",
        "from torchvision.models import vgg11, alexnet \n",
        "from torch.utils.data import DataLoader, random_split"
      ]
    },
    {
      "cell_type": "markdown",
      "id": "M5rt9x7nBKiT",
      "metadata": {
        "id": "M5rt9x7nBKiT"
      },
      "source": [
        "configuration constants"
      ]
    },
    {
      "cell_type": "code",
      "execution_count": null,
      "id": "JXznFSNkAzn3",
      "metadata": {
        "id": "JXznFSNkAzn3"
      },
      "outputs": [],
      "source": [
        "img_size = 256\n",
        "# mean, std used by pre-trained models from PyTorch\n",
        "mean, std = [0.485, 0.456, 0.406], [0.229, 0.224, 0.225]\n",
        "config = dict(epochs=5, batch_size=64,lr=0.001, wd=0.001, momentum=0.9, domain_regression_weight=0.3)"
      ]
    },
    {
      "cell_type": "markdown",
      "id": "_Rz4CI9spEkN",
      "metadata": {
        "id": "_Rz4CI9spEkN"
      },
      "source": [
        "Configue GPU"
      ]
    },
    {
      "cell_type": "code",
      "execution_count": null,
      "id": "nHv2o65FpDpn",
      "metadata": {
        "colab": {
          "base_uri": "https://localhost:8080/"
        },
        "id": "nHv2o65FpDpn",
        "outputId": "9686d1e2-f95d-43bd-ed33-7b34a17bc0e6"
      },
      "outputs": [
        {
          "output_type": "stream",
          "name": "stdout",
          "text": [
            "cuda:0\n"
          ]
        }
      ],
      "source": [
        "device = torch.device('cuda:0' if torch.cuda.is_available() else 'cpu')\n",
        "print(device)"
      ]
    },
    {
      "cell_type": "code",
      "execution_count": null,
      "id": "GF3YyTBAhJk8",
      "metadata": {
        "id": "GF3YyTBAhJk8"
      },
      "outputs": [],
      "source": [
        "from torchvision.transforms.transforms import ToTensor\n",
        "\n",
        "def get_dataset(root_path):\n",
        "  '''\n",
        "    Get dataset from specific data path\n",
        "\n",
        "    # parameters:\n",
        "        root_path: path to image folder\n",
        "\n",
        "    # return: train_loader, test_loader\n",
        "  '''\n",
        "  # Construct image transform\n",
        "  image_transform = transforms.Compose([\n",
        "    transforms.Resize(img_size),\n",
        "    transforms.CenterCrop(img_size),\n",
        "    transforms.ToTensor(),\n",
        "    transforms.Normalize(mean, std)\n",
        "  ])\n",
        "\n",
        "  # Load data from filesystem\n",
        "  image_dataset = ImageFolder(root_path, transform=image_transform)\n",
        "\n",
        "  return image_dataset\n",
        "\n",
        "def get_dataloader(dataset, batch_size, shuffle_train=True, shuffle_test=False):\n",
        "  '''\n",
        "    Get DataLoader from specific data path\n",
        "\n",
        "    # parameters:\n",
        "        dataset: ImageFolder instance\n",
        "        batch_size: batch_size for DataLoader\n",
        "        shuffle_train: whether to shuffle training data\n",
        "        shuffle_test: whether to shuffle test data\n",
        "  '''\n",
        "  # Get train, test number\n",
        "  num_total = len(dataset)\n",
        "  num_train = int(num_total * 0.8 + 1)\n",
        "  num_test  = num_total - num_train\n",
        "\n",
        "  # random split dataset\n",
        "  data_train, data_test = random_split(dataset, [num_train, num_test])\n",
        "\n",
        "  # initialize dataloaders\n",
        "  loader_train = DataLoader(data_train, batch_size=batch_size, shuffle=shuffle_train)\n",
        "  loader_test  = DataLoader(data_test, batch_size=batch_size, shuffle=shuffle_test)\n",
        "\n",
        "  return loader_train, loader_test"
      ]
    },
    {
      "cell_type": "markdown",
      "id": "-J4MSc3spcYU",
      "metadata": {
        "id": "-J4MSc3spcYU"
      },
      "source": [
        "### Part-2.1 Pretrain Network\n",
        "\n",
        "Here we use a pretrain Neural Network to start with, then we fine tune it with the data set we have from **Adaptiope** in one domain, and test it on the target domain. Compare the two result, and set the benchmark for later UDA enriched method. "
      ]
    },
    {
      "cell_type": "code",
      "execution_count": null,
      "id": "ijDPD_jrvlz_",
      "metadata": {
        "id": "ijDPD_jrvlz_"
      },
      "outputs": [],
      "source": [
        "# pd_dataset = get_dataset(product_path)\n",
        "# len(pd_dataset.classes)"
      ]
    },
    {
      "cell_type": "markdown",
      "id": "ZjWy3ak98L0F",
      "metadata": {
        "id": "ZjWy3ak98L0F"
      },
      "source": [
        "### Part-2.2 Define the Model with Feature Extractor, Classifier, and Domain Regressor."
      ]
    },
    {
      "cell_type": "code",
      "execution_count": null,
      "id": "DIIhUIqITlfi",
      "metadata": {
        "id": "DIIhUIqITlfi"
      },
      "outputs": [],
      "source": [
        "# class DAAN(torch.nn.Module):\n",
        "#   def __init__(self, num_classes):\n",
        "#     super(DAAN, self).__init__()\n",
        "\n",
        "#     # Feature Extractor with Pretained VGG16\n",
        "#     # self.feature_extractor = vgg11(pretrained=True)\n",
        "\n",
        "#     # Feature Extractor with AlexNet\n",
        "#     self.feature_extractor = alexnet(pretrained=True)\n",
        "#     feature_out_size = self.feature_extractor.classifier[-1].in_features\n",
        "#     self.feature_extractor.classifier[-1] = torch.nn.Identity()\n",
        "\n",
        "#     # Classifier\n",
        "#     self.label_classifier = torch.nn.Linear(feature_out_size, num_classes)\n",
        "\n",
        "#     # Domain Regressor\n",
        "#     self.domain_regressor  = torch.nn.Linear(feature_out_size, 1)\n",
        "#     self.domain_prediction = torch.nn.Sigmoid()\n",
        "\n",
        "#   def forward(self, X):\n",
        "#     # Feature Extractor\n",
        "#     feature_representation = self.feature_extractor(X)\n",
        "\n",
        "#     # Class Prediction\n",
        "#     label_pred = self.label_classifier(feature_representation)\n",
        "\n",
        "#     # Domain Regression Prediction\n",
        "#     domain_rgrs = self.domain_regressor(feature_representation)\n",
        "#     domain_pred = self.domain_prediction(domain_rgrs) \n",
        "\n",
        "#     # Concatenates label_prediction and domain_regression\n",
        "#     # output = torch.cat((label_pred, domain_pred), dim=0)\n",
        "\n",
        "#     return label_pred, domain_pred"
      ]
    },
    {
      "cell_type": "code",
      "execution_count": null,
      "id": "95ff2db4",
      "metadata": {
        "id": "95ff2db4"
      },
      "outputs": [],
      "source": [
        "class FeatureExtractor(torch.nn.Module):\n",
        "  def __init__(self):\n",
        "    super(FeatureExtractor, self).__init__()\n",
        "\n",
        "    # Feature Extractor with AlexNet\n",
        "    self.feature_extractor = alexnet(pretrained=True)\n",
        "    self.feature_dim = self.feature_extractor.classifier[-1].in_features\n",
        "\n",
        "    # make the last layer identity\n",
        "    self.feature_extractor.classifier[-1] = torch.nn.Identity()\n",
        "\n",
        "  def forward(self, x):\n",
        "    # Feature Extractor\n",
        "    return self.feature_extractor(x)\n",
        "  \n",
        "  def output_dim(self):\n",
        "    return self.feature_dim"
      ]
    },
    {
      "cell_type": "code",
      "execution_count": null,
      "id": "517118c3",
      "metadata": {
        "id": "517118c3"
      },
      "outputs": [],
      "source": [
        "class Classifier(torch.nn.Module):\n",
        "    def __init__(self, input_dim, output_dim):\n",
        "        super(Classifier, self).__init__()\n",
        "        self.classifier = torch.nn.Linear(input_dim, output_dim)\n",
        "    \n",
        "    def forward(self, X):\n",
        "        return self.classifier(X) "
      ]
    },
    {
      "cell_type": "code",
      "source": [
        "from torch.autograd import Function\n",
        "\n",
        "class ReverseLayerF(Function):\n",
        "    @staticmethod\n",
        "    def forward(ctx, x, alpha):\n",
        "        ctx.alpha = alpha\n",
        "        return x.view_as(x)\n",
        "\n",
        "    @staticmethod\n",
        "    def backward(ctx, grad_output):\n",
        "        output = grad_output.neg() * ctx.alpha\n",
        "        return output, None"
      ],
      "metadata": {
        "id": "RES6EY4PO7KF"
      },
      "id": "RES6EY4PO7KF",
      "execution_count": null,
      "outputs": []
    },
    {
      "cell_type": "code",
      "source": [
        "class Discriminator(torch.nn.Module):\n",
        "    def __init__(self, input_dim, hidden_dim=256):\n",
        "        super(Discriminator, self).__init__()\n",
        "        self.input_dim = input_dim\n",
        "        self.hidden_dim = hidden_dim\n",
        "        self.discriminator = torch.nn.Linear(input_dim, hidden_dim)\n",
        "        self.discrim_out   = torch.nn.Linear(hidden_dim, 1)\n",
        "\n",
        "    def forward(self, x):\n",
        "        intermed_out = F.relu(self.discriminator(x))\n",
        "        output = torch.sigmoid(self.discrim_out(intermed_out))\n",
        "        return output"
      ],
      "metadata": {
        "id": "K9syaPhFxOFd"
      },
      "id": "K9syaPhFxOFd",
      "execution_count": null,
      "outputs": []
    },
    {
      "cell_type": "code",
      "source": [
        "class DANN(torch.nn.Module):\n",
        "  # def __init__(self, num_classes, adversarial=True):\n",
        "  def __init__(self, num_classes):\n",
        "    super(DANN, self).__init__()\n",
        "    self.output_dim = num_classes\n",
        "\n",
        "    # define inner network component\n",
        "    self.feature_extractor = FeatureExtractor()\n",
        "    self.classifier = Classifier(self.feature_extractor.output_dim(), num_classes)\n",
        "    self.discriminator = Discriminator(self.feature_extractor.output_dim())  \n",
        "  \n",
        "  def forward(self, x):\n",
        "    feature_output = self.feature_extractor(x)\n",
        "\n",
        "    class_pred = self.classifier(feature_output)\n",
        "\n",
        "    # Add a ReverseLayer here for negative gradient computation\n",
        "    reverse_feature = ReverseLayerF.apply(feature_output, 1)\n",
        "    discr_pred = self.discriminator(reverse_feature)\n",
        "\n",
        "    return class_pred, discr_pred"
      ],
      "metadata": {
        "id": "BsbwoZkZwjjl"
      },
      "id": "BsbwoZkZwjjl",
      "execution_count": null,
      "outputs": []
    },
    {
      "cell_type": "code",
      "source": [
        ""
      ],
      "metadata": {
        "id": "rOiatGA9xVdu"
      },
      "id": "rOiatGA9xVdu",
      "execution_count": null,
      "outputs": []
    },
    {
      "cell_type": "markdown",
      "id": "SbvVK4NO68Yp",
      "metadata": {
        "id": "SbvVK4NO68Yp"
      },
      "source": [
        "### Part-2.2.1 Define the Feature Extractor by using a pretrain model"
      ]
    },
    {
      "cell_type": "code",
      "execution_count": null,
      "id": "JfloSw5b2jVe",
      "metadata": {
        "id": "JfloSw5b2jVe"
      },
      "outputs": [],
      "source": [
        "# def feature_extractor():\n",
        "#   '''\n",
        "#   Using VGG16 pretrain model\n",
        "#   And set the final classifer as an Identity Mapping(Use the model as feature extractor)\n",
        "#   '''\n",
        "#   model = vgg16(pretrained=True)\n",
        "#   out_feature = model.classifier[-1].in_features\n",
        "#   model.classifier[-1] = torch.nn.Identity()\n",
        "\n",
        "#   return model, out_feature"
      ]
    },
    {
      "cell_type": "markdown",
      "id": "B5xVtgIO8BnL",
      "metadata": {
        "id": "B5xVtgIO8BnL"
      },
      "source": [
        "### Part-2.2.2 Define the Classifier"
      ]
    },
    {
      "cell_type": "code",
      "execution_count": null,
      "id": "p8JGJfyF8CHB",
      "metadata": {
        "id": "p8JGJfyF8CHB"
      },
      "outputs": [],
      "source": [
        "# def classifier(input_size, output_size):\n",
        "#   return torch.nn.Linear(input_size, output_size)"
      ]
    },
    {
      "cell_type": "markdown",
      "id": "E8fnXyvS8CgD",
      "metadata": {
        "id": "E8fnXyvS8CgD"
      },
      "source": [
        "### Part-2.2.3 Define the Domain Regressor"
      ]
    },
    {
      "cell_type": "code",
      "execution_count": null,
      "id": "cGHGLjez8C9g",
      "metadata": {
        "id": "cGHGLjez8C9g"
      },
      "outputs": [],
      "source": [
        "# def domain_regressor(input_size, output_size=2):\n",
        "#   return torch.nn.Linear(input_size, output_size)"
      ]
    },
    {
      "cell_type": "markdown",
      "id": "IhnsX7lq5saz",
      "metadata": {
        "id": "IhnsX7lq5saz"
      },
      "source": [
        "### Part-2.3 Cost function\n",
        "\n",
        "Divide parameters intro two groups, in which the last fully conneted layer with learning_rate, the other layers with 0.1 * learning_rate."
      ]
    },
    {
      "cell_type": "code",
      "execution_count": null,
      "id": "q6BkiCH_5sOr",
      "metadata": {
        "id": "q6BkiCH_5sOr"
      },
      "outputs": [],
      "source": [
        "def get_class_loss_func():\n",
        "  return torch.nn.CrossEntropyLoss()\n",
        "\n",
        "# def get_domain_loss_func():\n",
        "  # return torch.nn.BCELoss()"
      ]
    },
    {
      "cell_type": "markdown",
      "id": "B-y0dTPj5zrR",
      "metadata": {
        "id": "B-y0dTPj5zrR"
      },
      "source": [
        "### Part-2.4 Optimizer"
      ]
    },
    {
      "cell_type": "code",
      "execution_count": null,
      "id": "zKRb56iY5sGt",
      "metadata": {
        "id": "zKRb56iY5sGt"
      },
      "outputs": [],
      "source": [
        "# def get_optimizer(model, learning_rate, weight_decay, momentum):\n",
        "#   '''\n",
        "#   Config Optimizer\n",
        "#   '''\n",
        "#   # classification layer name: label_classifier\n",
        "#   classifier_name = \"label_classifier\"\n",
        "#   domain_regressor_name = \"domain_regressor\"\n",
        "\n",
        "#   pre_trained_weights = []\n",
        "#   domain_regressor_weights = []\n",
        "#   classifier_weights = []\n",
        "\n",
        "#   # get all the parameters required gradient updates\n",
        "#   for name, param in model.named_parameters():\n",
        "#     if param.requires_grad == True:\n",
        "#       if name.startswith(classifier_name):\n",
        "#         classifier_weights.append(param)\n",
        "#       elif name.startswith(domain_regressor_name):\n",
        "#         domain_regressor_weights.append(param)\n",
        "#       else:\n",
        "#         pre_trained_weights.append(param)\n",
        "\n",
        "#   # assign parameters to parameters\n",
        "#   optimizer = torch.optim.SGD([\n",
        "#     {'params': pre_trained_weights},\n",
        "#     {'params': classifier_weights, 'lr': learning_rate}\n",
        "#   ], lr= learning_rate/10, weight_decay=weight_decay, momentum=momentum)\n",
        "  \n",
        "#   return optimizer"
      ]
    },
    {
      "cell_type": "code",
      "source": [
        "def get_optimizer(model, config, adversarial=True):\n",
        "  '''\n",
        "  Config Optimizer\n",
        "  '''\n",
        "  learning_rate = config['lr']\n",
        "  weight_decay  = config['wd']\n",
        "  momentum      = config['momentum']\n",
        "\n",
        "  feature_ext   = model.get_submodule(\"feature_extractor\")\n",
        "  classifier    = model.get_submodule(\"classifier\")\n",
        "  discriminator = model.get_submodule(\"discriminator\")\n",
        "\n",
        "  # classification layer name: label_classifier\n",
        "  classifier_name = \"label_classifier\"\n",
        "  domain_regressor_name = \"domain_regressor\"\n",
        "  pre_trained_weights = feature_ext.parameters()\n",
        "\n",
        "  if adversarial:\n",
        "    other_weights = list(classifier.parameters()) + list(discriminator.parameters())\n",
        "  else:\n",
        "    other_weights = list(classifier.parameters())\n",
        "\n",
        "  # assign parameters to parameters\n",
        "  optimizer = torch.optim.SGD([\n",
        "    {'params': pre_trained_weights},\n",
        "    {'params': other_weights, 'lr': learning_rate}\n",
        "  ], lr= learning_rate/10, weight_decay=weight_decay, momentum=momentum)\n",
        "  \n",
        "  return optimizer"
      ],
      "metadata": {
        "id": "ZsoNnQCq2aEt"
      },
      "id": "ZsoNnQCq2aEt",
      "execution_count": null,
      "outputs": []
    },
    {
      "cell_type": "code",
      "source": [
        ""
      ],
      "metadata": {
        "id": "3wL74sCV0Ycm"
      },
      "id": "3wL74sCV0Ycm",
      "execution_count": null,
      "outputs": []
    },
    {
      "cell_type": "markdown",
      "id": "Atdanl9REs3F",
      "metadata": {
        "id": "Atdanl9REs3F"
      },
      "source": [
        "### Part-2.5 Training and Testing Step"
      ]
    },
    {
      "cell_type": "code",
      "execution_count": null,
      "id": "ORDqPkiT5r1s",
      "metadata": {
        "id": "ORDqPkiT5r1s"
      },
      "outputs": [],
      "source": [
        "def train_loop(dataloader, model, optimizer, device):\n",
        "  size = len(dataloader.dataset)\n",
        "  loss_fn = get_class_loss_func()\n",
        "\n",
        "  for batch, (X, y) in enumerate(dataloader):\n",
        "    X, y = X.to(device), y.to(device)\n",
        "    \n",
        "    # compute prediction and loss\n",
        "    class_pred, _ = model(X)\n",
        "\n",
        "    # classification loss\n",
        "    loss = loss_fn(class_pred, y)\n",
        "\n",
        "    # backpropagation\n",
        "    optimizer.zero_grad()\n",
        "    loss.backward()\n",
        "    optimizer.step()\n",
        "\n",
        "    if batch % 100 == 0:\n",
        "      loss, current = loss.item(), batch * len(X)\n",
        "      print(f\"loss: {loss:>7f} [{current:>5d}/{size:>5d}]\")\n",
        "    \n",
        "    del loss"
      ]
    },
    {
      "cell_type": "code",
      "execution_count": null,
      "id": "LlvQLNUDLGJF",
      "metadata": {
        "id": "LlvQLNUDLGJF"
      },
      "outputs": [],
      "source": [
        "def test_loop(dataloader, model, device):\n",
        "  test_loss, correct = 0, 0\n",
        "  loss_fn = get_class_loss_func()\n",
        "\n",
        "  with torch.no_grad():\n",
        "    for X, y in dataloader:\n",
        "      X, y = X.to(device), y.to(device)\n",
        "      class_pred, _ = model(X)\n",
        "\n",
        "      test_loss += loss_fn(class_pred, y).item()\n",
        "      correct += (class_pred.argmax(1) == y).type(torch.float).sum().item()\n",
        "\n",
        "  size = len(dataloader.dataset)\n",
        "  num_batches = len(dataloader)\n",
        "\n",
        "  test_loss /= num_batches\n",
        "  correct /= size\n",
        "  print(f\"Test Error: \\n Accuracy: {(100*correct):>0.1f}%, Avg loss: {test_loss:>8f} \\n\")\n",
        "\n",
        "  return test_loss, correct"
      ]
    },
    {
      "cell_type": "markdown",
      "id": "z5uhItnwhj8S",
      "metadata": {
        "id": "z5uhItnwhj8S"
      },
      "source": [
        "### Part-2.6 Training"
      ]
    },
    {
      "cell_type": "code",
      "execution_count": null,
      "id": "nM76Syqahknd",
      "metadata": {
        "id": "nM76Syqahknd"
      },
      "outputs": [],
      "source": [
        "def training(model, train_dataloader, test_dataloader, config, device):\n",
        "  epochs = config['epochs']\n",
        "  print(f\"Learning_rate {config['lr']}, weight_decay {config['wd']}\")\n",
        "  loss_fn = get_class_loss_func()\n",
        "\n",
        "  optimizer = get_optimizer(model, config, adversarial=False)\n",
        "\n",
        "  for epoch in range(epochs):\n",
        "    print(f\"Epoch {epoch+1}\\n------------------\")\n",
        "    train_loop(train_dataloader, model, loss_fn, optimizer, device)\n",
        "    test_loop(test_dataloader, model, loss_fn, device)\n",
        "\n",
        "  print(\"Done\")"
      ]
    },
    {
      "cell_type": "code",
      "execution_count": null,
      "id": "V93UE4rXi3C9",
      "metadata": {
        "colab": {
          "base_uri": "https://localhost:8080/"
        },
        "id": "V93UE4rXi3C9",
        "outputId": "f5be9ed8-6f2a-423d-831d-072e4cd381aa"
      },
      "outputs": [
        {
          "output_type": "stream",
          "name": "stdout",
          "text": [
            "Learning_rate 0.001, weight_decay 0.001\n",
            "get_optimizer\n",
            "FeatureExtractor(\n",
            "  (feature_extractor): AlexNet(\n",
            "    (features): Sequential(\n",
            "      (0): Conv2d(3, 64, kernel_size=(11, 11), stride=(4, 4), padding=(2, 2))\n",
            "      (1): ReLU(inplace=True)\n",
            "      (2): MaxPool2d(kernel_size=3, stride=2, padding=0, dilation=1, ceil_mode=False)\n",
            "      (3): Conv2d(64, 192, kernel_size=(5, 5), stride=(1, 1), padding=(2, 2))\n",
            "      (4): ReLU(inplace=True)\n",
            "      (5): MaxPool2d(kernel_size=3, stride=2, padding=0, dilation=1, ceil_mode=False)\n",
            "      (6): Conv2d(192, 384, kernel_size=(3, 3), stride=(1, 1), padding=(1, 1))\n",
            "      (7): ReLU(inplace=True)\n",
            "      (8): Conv2d(384, 256, kernel_size=(3, 3), stride=(1, 1), padding=(1, 1))\n",
            "      (9): ReLU(inplace=True)\n",
            "      (10): Conv2d(256, 256, kernel_size=(3, 3), stride=(1, 1), padding=(1, 1))\n",
            "      (11): ReLU(inplace=True)\n",
            "      (12): MaxPool2d(kernel_size=3, stride=2, padding=0, dilation=1, ceil_mode=False)\n",
            "    )\n",
            "    (avgpool): AdaptiveAvgPool2d(output_size=(6, 6))\n",
            "    (classifier): Sequential(\n",
            "      (0): Dropout(p=0.5, inplace=False)\n",
            "      (1): Linear(in_features=9216, out_features=4096, bias=True)\n",
            "      (2): ReLU(inplace=True)\n",
            "      (3): Dropout(p=0.5, inplace=False)\n",
            "      (4): Linear(in_features=4096, out_features=4096, bias=True)\n",
            "      (5): ReLU(inplace=True)\n",
            "      (6): Identity()\n",
            "    )\n",
            "  )\n",
            ")\n",
            "Epoch 1\n",
            "------------------\n"
          ]
        },
        {
          "output_type": "stream",
          "name": "stderr",
          "text": [
            "/usr/local/lib/python3.7/dist-packages/torch/nn/functional.py:1944: UserWarning: nn.functional.sigmoid is deprecated. Use torch.sigmoid instead.\n",
            "  warnings.warn(\"nn.functional.sigmoid is deprecated. Use torch.sigmoid instead.\")\n"
          ]
        },
        {
          "output_type": "stream",
          "name": "stdout",
          "text": [
            "loss: 3.349539 [    0/ 1601]\n",
            "Test Error: \n",
            " Accuracy: 88.7%, Avg loss: 0.335081 \n",
            "\n",
            "Epoch 2\n",
            "------------------\n",
            "loss: 0.159048 [    0/ 1601]\n",
            "Test Error: \n",
            " Accuracy: 91.7%, Avg loss: 0.263871 \n",
            "\n",
            "Epoch 3\n",
            "------------------\n",
            "loss: 0.211627 [    0/ 1601]\n",
            "Test Error: \n",
            " Accuracy: 93.0%, Avg loss: 0.245775 \n",
            "\n",
            "Epoch 4\n",
            "------------------\n",
            "loss: 0.240699 [    0/ 1601]\n",
            "Test Error: \n",
            " Accuracy: 92.2%, Avg loss: 0.219472 \n",
            "\n",
            "Epoch 5\n",
            "------------------\n",
            "loss: 0.052230 [    0/ 1601]\n",
            "Test Error: \n",
            " Accuracy: 94.0%, Avg loss: 0.204437 \n",
            "\n",
            "Done\n"
          ]
        }
      ],
      "source": [
        "# Get train_dataloader, test_dataloader\n",
        "source_dataset = get_dataset(product_path)\n",
        "train_dataloader, test_dataloader = get_dataloader(source_dataset, 50)\n",
        "\n",
        "model = DANN(len(source_dataset.classes), False).to(device)\n",
        "\n",
        "# Training\n",
        "training(model, train_dataloader, test_dataloader, config, device)"
      ]
    },
    {
      "cell_type": "markdown",
      "id": "05P25psLS27W",
      "metadata": {
        "id": "05P25psLS27W"
      },
      "source": [
        "### Part-2.7 Testing on Target Domain\n",
        "#### Apply the model trained on the source domain directly to the target domain. This result will be used for comparison with the results obtained after domain adaptation."
      ]
    },
    {
      "cell_type": "code",
      "execution_count": null,
      "id": "E54Vm3jmTRcc",
      "metadata": {
        "colab": {
          "base_uri": "https://localhost:8080/"
        },
        "id": "E54Vm3jmTRcc",
        "outputId": "6fc3bad8-b07e-4646-da86-d6a181b8eb0b"
      },
      "outputs": [
        {
          "output_type": "stream",
          "name": "stderr",
          "text": [
            "/usr/local/lib/python3.7/dist-packages/torch/nn/functional.py:1944: UserWarning: nn.functional.sigmoid is deprecated. Use torch.sigmoid instead.\n",
            "  warnings.warn(\"nn.functional.sigmoid is deprecated. Use torch.sigmoid instead.\")\n"
          ]
        },
        {
          "output_type": "stream",
          "name": "stdout",
          "text": [
            "Test Error: \n",
            " Accuracy: 63.7%, Avg loss: 1.203011 \n",
            "\n"
          ]
        },
        {
          "output_type": "execute_result",
          "data": {
            "text/plain": [
              "(1.2030107021331786, 0.6375)"
            ]
          },
          "metadata": {},
          "execution_count": 62
        }
      ],
      "source": [
        "target_dataset = get_dataset(real_life_path)\n",
        "loader_target_dataset = DataLoader(target_dataset, batch_size=100, shuffle=False)\n",
        "\n",
        "# model.load_state_dict(torch.load('model_state.pt', map_location='cpu'))\n",
        "test_loop(loader_target_dataset, model, device)"
      ]
    },
    {
      "cell_type": "code",
      "execution_count": null,
      "id": "Cw4GP_z-_iy_",
      "metadata": {
        "colab": {
          "base_uri": "https://localhost:8080/"
        },
        "id": "Cw4GP_z-_iy_",
        "outputId": "c7770acf-a8cc-4189-80e0-438860c8e98d"
      },
      "outputs": [
        {
          "output_type": "stream",
          "name": "stdout",
          "text": [
            "940750848\n"
          ]
        }
      ],
      "source": [
        "del model\n",
        "print(torch.cuda.memory_allocated())"
      ]
    },
    {
      "cell_type": "code",
      "execution_count": null,
      "id": "rgdhQQwIAzDO",
      "metadata": {
        "id": "rgdhQQwIAzDO"
      },
      "outputs": [],
      "source": [
        "del train_dataloader, test_dataloader, loader_target_dataset"
      ]
    },
    {
      "cell_type": "code",
      "execution_count": null,
      "id": "Sb5mqdPMBHli",
      "metadata": {
        "colab": {
          "base_uri": "https://localhost:8080/"
        },
        "id": "Sb5mqdPMBHli",
        "outputId": "42ba8eab-26d4-46fe-9d54-d76e8a418193"
      },
      "outputs": [
        {
          "output_type": "stream",
          "name": "stdout",
          "text": [
            "478516736\n"
          ]
        }
      ],
      "source": [
        "print(torch.cuda.memory_allocated())"
      ]
    },
    {
      "cell_type": "markdown",
      "id": "kTUMJfmMw-tQ",
      "metadata": {
        "id": "kTUMJfmMw-tQ"
      },
      "source": [
        "## TODO\n",
        "\n",
        "TODO: Dataset unzip Google Drive, Copy to folder\n",
        "\n",
        "TODO: Batch progress number error\n",
        "\n",
        "TODO: Early stop or dropout, when accuracy doesn't improve much\n",
        "\n",
        "Otherwise Continue UDA"
      ]
    },
    {
      "cell_type": "markdown",
      "id": "7q7jwnwwhRz2",
      "metadata": {
        "id": "7q7jwnwwhRz2"
      },
      "source": [
        "## 3: MK-MMD \n",
        "\n",
        "MultiKernel Maximum Mean Discrepancy"
      ]
    },
    {
      "cell_type": "markdown",
      "source": [
        ""
      ],
      "metadata": {
        "id": "I8xiqKrnCZLl"
      },
      "id": "I8xiqKrnCZLl"
    },
    {
      "cell_type": "code",
      "source": [
        ""
      ],
      "metadata": {
        "id": "hiYDohLoCZkh"
      },
      "id": "hiYDohLoCZkh",
      "execution_count": null,
      "outputs": []
    },
    {
      "cell_type": "code",
      "source": [
        ""
      ],
      "metadata": {
        "id": "wGkuamB_CZ-L"
      },
      "id": "wGkuamB_CZ-L",
      "execution_count": null,
      "outputs": []
    },
    {
      "cell_type": "code",
      "source": [
        ""
      ],
      "metadata": {
        "id": "_8yK7tI_CaZL"
      },
      "id": "_8yK7tI_CaZL",
      "execution_count": null,
      "outputs": []
    },
    {
      "cell_type": "markdown",
      "id": "CKsMcxgihquu",
      "metadata": {
        "id": "CKsMcxgihquu"
      },
      "source": [
        "## Part-4: Comparison & Discussion\n",
        "Here we compare the test result from the direct method and the UDA method. "
      ]
    },
    {
      "cell_type": "code",
      "execution_count": null,
      "id": "6C0fg_GZh4ou",
      "metadata": {
        "id": "6C0fg_GZh4ou"
      },
      "outputs": [],
      "source": [
        ""
      ]
    },
    {
      "cell_type": "code",
      "execution_count": null,
      "id": "lcDs1PTfh9G9",
      "metadata": {
        "id": "lcDs1PTfh9G9"
      },
      "outputs": [],
      "source": [
        ""
      ]
    },
    {
      "cell_type": "markdown",
      "id": "u3VyXbyth9sO",
      "metadata": {
        "id": "u3VyXbyth9sO"
      },
      "source": [
        "## Part-5: Conclusion"
      ]
    },
    {
      "cell_type": "code",
      "execution_count": null,
      "id": "xgSBA7eMh-Nk",
      "metadata": {
        "id": "xgSBA7eMh-Nk"
      },
      "outputs": [],
      "source": [
        ""
      ]
    }
  ],
  "metadata": {
    "accelerator": "GPU",
    "colab": {
      "collapsed_sections": [],
      "name": "UDA_MMD.ipynb",
      "provenance": []
    },
    "gpuClass": "standard",
    "kernelspec": {
      "display_name": "Python 3 (ipykernel)",
      "language": "python",
      "name": "python3"
    },
    "language_info": {
      "codemirror_mode": {
        "name": "ipython",
        "version": 3
      },
      "file_extension": ".py",
      "mimetype": "text/x-python",
      "name": "python",
      "nbconvert_exporter": "python",
      "pygments_lexer": "ipython3",
      "version": "3.9.9"
    }
  },
  "nbformat": 4,
  "nbformat_minor": 5
}